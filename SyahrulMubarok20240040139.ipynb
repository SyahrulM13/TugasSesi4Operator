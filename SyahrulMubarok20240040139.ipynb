{
 "cells": [
  {
   "cell_type": "markdown",
   "id": "e6656f61-facb-4262-a3b1-a9b22c866ff7",
   "metadata": {},
   "source": [
    "<h1>1. Operator Aritmatika</h1>"
   ]
  },
  {
   "cell_type": "code",
   "execution_count": 55,
   "id": "a98a8e99-e3fb-46b9-b690-a9ad824a8209",
   "metadata": {},
   "outputs": [
    {
     "name": "stdin",
     "output_type": "stream",
     "text": [
      "Isikan Jumlah Apel 12\n",
      "Isikan Jumlah Teman 4\n"
     ]
    },
    {
     "name": "stdout",
     "output_type": "stream",
     "text": [
      "Jumlah Apel Budi setelah dibagikan 12 // 4 = 3\n"
     ]
    },
    {
     "name": "stdin",
     "output_type": "stream",
     "text": [
      "Tambahkan Apel 8\n"
     ]
    },
    {
     "name": "stdout",
     "output_type": "stream",
     "text": [
      "Jumlah Apell setelah ditambahkan 12 + 8 = 20\n"
     ]
    }
   ],
   "source": [
    "x = int(input(\"Isikan Jumlah Apel\"))\n",
    "y = int(input(\"Isikan Jumlah Teman\"))\n",
    "\n",
    "hasilBagiBulat = x // y\n",
    "\n",
    "print(\"Jumlah Apel Budi setelah dibagikan\",x,\"//\",y,\"=\",hasilBagiBulat)\n",
    "\n",
    "z = int(input(\"Tambahkan Apel\"))\n",
    "\n",
    "hasilTambah = x + z\n",
    "\n",
    "\n",
    "print(\"Jumlah Apell setelah ditambahkan\",x,\"+\",z,\"=\",hasilTambah)"
   ]
  },
  {
   "cell_type": "markdown",
   "id": "6fcadc8d-3e05-4430-9cd0-05eb7cdb9842",
   "metadata": {},
   "source": [
    "<h1>2. Operator Perbadingan</h1>"
   ]
  },
  {
   "cell_type": "code",
   "execution_count": 44,
   "id": "69d12c2d-a868-4f66-a919-cc11614cca2a",
   "metadata": {},
   "outputs": [
    {
     "name": "stdin",
     "output_type": "stream",
     "text": [
      "Isikan Tb Siti 160\n",
      "Isikan Tb Andi 165\n"
     ]
    },
    {
     "name": "stdout",
     "output_type": "stream",
     "text": [
      "Andi lebih tinggi dari Siti\n"
     ]
    }
   ],
   "source": [
    "x = int(input(\"Isikan Tb Siti\"))\n",
    "y = int(input(\"Isikan Tb Andi\"))\n",
    "\n",
    "if x > y:\n",
    "    print(\"Siti lebih tinggi dari Andi\")\n",
    "elif x < y:\n",
    "    print(\"Andi lebih tinggi dari Siti\")\n",
    "else:\n",
    "    print(\"Andi dan Siti tinggi nya sama\")"
   ]
  },
  {
   "cell_type": "code",
   "execution_count": 52,
   "id": "6d8fbc12-f9b6-484e-a83e-14ef9fdd78fa",
   "metadata": {},
   "outputs": [
    {
     "name": "stdin",
     "output_type": "stream",
     "text": [
      "Isikan Tb Siti : 160\n",
      "Isikan Tb Andi : 165\n"
     ]
    },
    {
     "name": "stdout",
     "output_type": "stream",
     "text": [
      "Apakah Andi lebih tinggi?  True\n"
     ]
    }
   ],
   "source": [
    "x = int(input(\"Isikan Tb Siti :\"))\n",
    "y = int(input(\"Isikan Tb Andi :\"))\n",
    "z = x < y\n",
    "print(\"Apakah Andi lebih tinggi? \",z)"
   ]
  },
  {
   "cell_type": "markdown",
   "id": "a38e4bfa-b80a-4203-891b-209edfc926f0",
   "metadata": {},
   "source": [
    "<h1>3. Operator Logika</h1>"
   ]
  },
  {
   "cell_type": "code",
   "execution_count": 76,
   "id": "afabcc05-bc3d-4ce9-b59f-bf23cbc23df6",
   "metadata": {},
   "outputs": [
    {
     "name": "stdin",
     "output_type": "stream",
     "text": [
      "Apakah cuaca nya cerah? (ya/tidak) : ya\n",
      "Apakah Budi sudah menyelesaikan PR nya? (ya/tidak) : ya\n"
     ]
    },
    {
     "name": "stdout",
     "output_type": "stream",
     "text": [
      "Budi bisa bermain keluar\n"
     ]
    }
   ],
   "source": [
    "a = str(input(\"Apakah cuaca nya cerah? (ya/tidak) :\"))\n",
    "b = str(input(\"Apakah Budi sudah menyelesaikan PR nya? (ya/tidak) :\"))\n",
    "c = a and b\n",
    "\n",
    "if c:\n",
    "    print(\"Budi bisa bermain keluar\")\n",
    "else:\n",
    "    print(\"Budi tidak bisa bermain keluar\")\n",
    "    "
   ]
  },
  {
   "cell_type": "code",
   "execution_count": 82,
   "id": "7dcdf8f9-e4a0-403c-8a17-d2b089584a7f",
   "metadata": {},
   "outputs": [
    {
     "name": "stdin",
     "output_type": "stream",
     "text": [
      "Apakah cuaca nya cerah? (ya/tidak) : ya\n",
      "Apakah Budi sudah menyelesaikan PR nya? (ya/tidak) : ya\n"
     ]
    },
    {
     "name": "stdout",
     "output_type": "stream",
     "text": [
      "Apakah Budi bisa main keluar? ya\n"
     ]
    }
   ],
   "source": [
    "a = str(input(\"Apakah cuaca nya cerah? (ya/tidak) :\"))\n",
    "b = str(input(\"Apakah Budi sudah menyelesaikan PR nya? (ya/tidak) :\"))\n",
    "c = a and b\n",
    "\n",
    "print(\"Apakah Budi bisa main keluar?\",c)"
   ]
  },
  {
   "cell_type": "markdown",
   "id": "d7f81f88-916e-4c3f-b0bc-1bc19745bc50",
   "metadata": {},
   "source": [
    "<h1> 4. Operator Bitwise</h1>"
   ]
  },
  {
   "cell_type": "code",
   "execution_count": 23,
   "id": "87dc659e-f4cb-4c33-99ab-9095d1e226e5",
   "metadata": {},
   "outputs": [
    {
     "name": "stdin",
     "output_type": "stream",
     "text": [
      "Isikan angka 1 : 6\n",
      "Isikan angka 2 : 3\n"
     ]
    },
    {
     "name": "stdout",
     "output_type": "stream",
     "text": [
      "0b110\n",
      "0b11\n",
      "-----------------&\n",
      "0b10\n",
      "Hasil desimal AND adalah : 2\n",
      "0b110\n",
      "0b11\n",
      "---------------|\n",
      "0b111\n",
      "Hasil desimal OR adalah : 7\n",
      "0b110\n",
      "0b11\n",
      "---------------^\n",
      "0b101\n",
      "Hasil desimal XOR adalah : 5\n"
     ]
    }
   ],
   "source": [
    "bil1 = int(input(\"Isikan angka 1 :\"))\n",
    "bil2 = int(input(\"Isikan angka 2 :\"))\n",
    "\n",
    "#Bitwise AND (&)\n",
    "bitwiseAnd = bil1 & bil2\n",
    "print(bin(bil1))\n",
    "print(bin(bil2))\n",
    "print(\"-----------------&\")\n",
    "print(bin(bitwiseAnd))\n",
    "print(\"Hasil desimal AND adalah :\",bitwiseAnd)\n",
    "\n",
    "#Bitwise Or (|)\n",
    "bitwiseOr = bil1 | bil2\n",
    "print(bin(bil1))\n",
    "print(bin(bil2))\n",
    "print(\"---------------|\")\n",
    "print(bin(bitwiseOr))\n",
    "print(\"Hasil desimal OR adalah :\",bitwiseOr)\n",
    "\n",
    "#Bitwise XOR (^)\n",
    "bitwiseXOR = bil1 ^ bil2\n",
    "print(bin(bil1))\n",
    "print(bin(bil2))\n",
    "print(\"---------------^\")\n",
    "print(bin(bitwiseXOR))\n",
    "print(\"Hasil desimal XOR adalah :\",bitwiseXOR)\n"
   ]
  },
  {
   "cell_type": "markdown",
   "id": "5b5dd990-c07f-4435-b257-e752d0687f26",
   "metadata": {},
   "source": [
    "<h1>5. Operator Penugasan</h1>"
   ]
  },
  {
   "cell_type": "code",
   "execution_count": 102,
   "id": "84c39463-8654-4e75-8bb6-f810131f427a",
   "metadata": {},
   "outputs": [
    {
     "name": "stdin",
     "output_type": "stream",
     "text": [
      "Isikan Saldo 50000\n"
     ]
    },
    {
     "name": "stdout",
     "output_type": "stream",
     "text": [
      "Saldo awal dari <Saldo> : 50000\n",
      "Saldo setelah diisi ulang : 70000\n",
      "Saldo setelah dibelikan paket : 40000\n",
      "Sisa Saldo nya adalah : 40000\n"
     ]
    }
   ],
   "source": [
    "nilai = int(input(\"Isikan Saldo\"))\n",
    "print(\"Saldo awal dari <Saldo> :\",nilai)\n",
    "nilai+= 20000\n",
    "print(\"Saldo setelah diisi ulang :\",nilai)\n",
    "nilai-= 30000\n",
    "print(\"Saldo setelah dibelikan paket :\",nilai)\n",
    "print(\"Sisa Saldo nya adalah :\",nilai)"
   ]
  },
  {
   "cell_type": "markdown",
   "id": "8627aea7-ca07-4cf6-9a82-f453e5b9e7ac",
   "metadata": {},
   "source": [
    "<h1>6. Operator Keanggotaan</h1>"
   ]
  },
  {
   "cell_type": "code",
   "execution_count": 114,
   "id": "4c6ae5e6-6368-4531-a7a4-ebcc1fa73770",
   "metadata": {},
   "outputs": [
    {
     "name": "stdin",
     "output_type": "stream",
     "text": [
      "Isikan nama yang dicari : Eka\n"
     ]
    },
    {
     "name": "stdout",
     "output_type": "stream",
     "text": [
      "Apakah nama tsb terdaftar sebagai peserta? False\n"
     ]
    },
    {
     "name": "stdin",
     "output_type": "stream",
     "text": [
      "Isikan kata yang dicari : Python\n"
     ]
    },
    {
     "name": "stdout",
     "output_type": "stream",
     "text": [
      "Apakah kata Python ada dalam kalimat? True\n"
     ]
    }
   ],
   "source": [
    "nama = input(\"Isikan nama yang dicari :\")\n",
    "listNama = [\"Andi\",\"Budi\",\"Citra\",\"Dewi\"]\n",
    "print(\"Apakah nama tsb terdaftar sebagai peserta?\", nama in listNama)\n",
    "\n",
    "kata = input(\"Isikan kata yang dicari :\")\n",
    "kalimat = \"Saya suka belajar Python\"\n",
    "print(\"Apakah kata Python ada dalam kalimat?\",kata in kalimat)"
   ]
  },
  {
   "cell_type": "markdown",
   "id": "6f377cec-d4a5-4b70-87e3-8b544c5c5c5f",
   "metadata": {},
   "source": [
    "<h1>7. Operator Identitas</h1>"
   ]
  },
  {
   "cell_type": "code",
   "execution_count": 47,
   "id": "76d88367-b614-44f7-a05c-6d2f74c60e47",
   "metadata": {},
   "outputs": [
    {
     "name": "stdout",
     "output_type": "stream",
     "text": [
      "Memori address dari x 140725152197336\n",
      "Memori address dari y 140725152197336\n",
      "Apakah x adalah y? True\n",
      "Memori address dari a 1561756905216\n",
      "Memori address dari b 1561756920320\n",
      "Apakah a adalah b? False\n"
     ]
    }
   ],
   "source": [
    "x = 10\n",
    "y = 10\n",
    "\n",
    "print('Memori address dari x',id(x))\n",
    "print('Memori address dari y',id(y))\n",
    "print('Apakah x adalah y?',x is y)\n",
    "\n",
    "a = [4,7,8]\n",
    "b = [4,7,8]\n",
    "\n",
    "print('Memori address dari a',id(a))\n",
    "print('Memori address dari b',id(b))\n",
    "print('Apakah a adalah b?',a is b)"
   ]
  },
  {
   "cell_type": "markdown",
   "id": "b2194176-aae6-42d7-a309-5ed027d39d7d",
   "metadata": {},
   "source": [
    "<h1>8. Operator Ternary</h1>"
   ]
  },
  {
   "cell_type": "code",
   "execution_count": 53,
   "id": "bf89ecab-1f2c-45e0-bc6a-fa3a18f07fca",
   "metadata": {},
   "outputs": [
    {
     "name": "stdin",
     "output_type": "stream",
     "text": [
      "Isikan angka : 20000\n"
     ]
    },
    {
     "name": "stdout",
     "output_type": "stream",
     "text": [
      "Lebih besar dari 100\n"
     ]
    },
    {
     "name": "stdin",
     "output_type": "stream",
     "text": [
      "Isikan nilai : 100\n"
     ]
    },
    {
     "name": "stdout",
     "output_type": "stream",
     "text": [
      "LULUS\n"
     ]
    }
   ],
   "source": [
    "number = int(input(\"Isikan angka :\"))\n",
    "AngkaLebihBesar = \"Lebih besar dari 100\" if number > 100 else \"Lebih kecil dari 100\"\n",
    "print(AngkaLebihBesar)\n",
    "\n",
    "nilai = int(input(\"Isikan nilai :\"))\n",
    "nilaiLulus = \"LULUS\" if nilai > 70 else \"Tidak Lulus\"\n",
    "print(nilaiLulus)"
   ]
  },
  {
   "cell_type": "code",
   "execution_count": null,
   "id": "172a46c0-3f8c-4eb6-be1a-46e72bc7367e",
   "metadata": {},
   "outputs": [],
   "source": []
  }
 ],
 "metadata": {
  "kernelspec": {
   "display_name": "Python [conda env:base] *",
   "language": "python",
   "name": "conda-base-py"
  },
  "language_info": {
   "codemirror_mode": {
    "name": "ipython",
    "version": 3
   },
   "file_extension": ".py",
   "mimetype": "text/x-python",
   "name": "python",
   "nbconvert_exporter": "python",
   "pygments_lexer": "ipython3",
   "version": "3.12.7"
  }
 },
 "nbformat": 4,
 "nbformat_minor": 5
}
